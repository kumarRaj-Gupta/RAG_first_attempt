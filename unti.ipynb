{
 "cells": [
  {
   "cell_type": "code",
   "execution_count": 3,
   "id": "604dd3db-5892-4bb5-86ac-2d444e4a045a",
   "metadata": {},
   "outputs": [],
   "source": [
    "import pandas as pd \n",
    "import numpy as np\n",
    "from dotenv import load_dotenv\n",
    "import google.generativeai as genai\n",
    "import os"
   ]
  },
  {
   "cell_type": "code",
   "execution_count": 4,
   "id": "a6bb54ba-395e-4dfa-b972-38ba4c7b5df4",
   "metadata": {},
   "outputs": [],
   "source": [
    "load_dotenv()\n",
    "api_key = os.getenv(\"GEMINI_API_KEY\")\n",
    "genai.configure(api_key=api_key)\n",
    "model = genai.GenerativeModel(\"gemini-1.5-flash\")\n",
    "# response = model.generate_content(\"Explain how AI works\")\n",
    "# print(response.text)"
   ]
  },
  {
   "cell_type": "code",
   "execution_count": 5,
   "id": "2c82ec9a-1605-4f0e-843e-967fba99e466",
   "metadata": {},
   "outputs": [],
   "source": [
    "df=pd.DataFrame(pd.read_csv(\"fake_vector_db.csv\"))\n"
   ]
  },
  {
   "cell_type": "code",
   "execution_count": 6,
   "id": "cad56094-3d2f-47c3-a619-2648d0e70038",
   "metadata": {},
   "outputs": [],
   "source": [
    "# df[\"Embedding\"]=df[\"Embedding\"].apply(lambda x: np.array(x))"
   ]
  },
  {
   "cell_type": "code",
   "execution_count": 7,
   "id": "644d32dc-9210-4e17-96b5-ba6b2eb433ca",
   "metadata": {},
   "outputs": [],
   "source": [
    "def get_embedding(text):\n",
    "    embedded_content = genai.embed_content(\n",
    "            model=\"models/text-embedding-004\",\n",
    "            content={text})\n",
    "    return embedded_content['embedding']\n"
   ]
  },
  {
   "cell_type": "code",
   "execution_count": 8,
   "id": "ce1383b8-781e-419c-8eef-6d94ccbd8425",
   "metadata": {},
   "outputs": [],
   "source": [
    "question=\"How many respondents feel that online food guide saves money?\"\n",
    "embedded_question= get_embedding(question)"
   ]
  },
  {
   "cell_type": "code",
   "execution_count": 9,
   "id": "053dced5-d6d2-4072-8904-2cc1c6e8d6b3",
   "metadata": {},
   "outputs": [],
   "source": [
    "# fix_this=df[\"Embedding\"][0]\n",
    "# try_me = ast.literal_eval(fix_this)\n",
    "import ast\n"
   ]
  },
  {
   "cell_type": "code",
   "execution_count": 10,
   "id": "8f9e745a-b11c-4d22-a6dc-f413777801b5",
   "metadata": {},
   "outputs": [],
   "source": [
    "# for i in range(len(df[\"Embedding\"])):\n",
    "#     df[\"Embedding\"][i]=ast.literal_eval(df[\"Embedding\"][i])\n",
    "df[\"Embedding\"]=df[\"Embedding\"].apply(lambda x: ast.literal_eval(x))"
   ]
  },
  {
   "cell_type": "code",
   "execution_count": 11,
   "id": "97c570ba-b6d3-4dca-ab02-25b31e80c3f2",
   "metadata": {},
   "outputs": [],
   "source": [
    "df[\"UseMe\"]=df[\"Embedding\"].apply(lambda x:x[0])\n"
   ]
  },
  {
   "cell_type": "code",
   "execution_count": 12,
   "id": "d41f6a65-52b6-426e-bf64-2425b7210a93",
   "metadata": {},
   "outputs": [],
   "source": [
    "df[\"Closeness\"]=df[\"UseMe\"].apply(lambda x: np.dot(x,embedded_question[0]))"
   ]
  },
  {
   "cell_type": "code",
   "execution_count": 13,
   "id": "b870e15f-c706-492b-bee0-1a2e77f789f6",
   "metadata": {},
   "outputs": [
    {
     "data": {
      "text/plain": [
       "0    0.461170\n",
       "1    0.549081\n",
       "2    0.459530\n",
       "3    0.489319\n",
       "4    0.433289\n",
       "Name: Closeness, dtype: float64"
      ]
     },
     "execution_count": 13,
     "metadata": {},
     "output_type": "execute_result"
    }
   ],
   "source": [
    "df[\"Closeness\"].head()\n"
   ]
  },
  {
   "cell_type": "code",
   "execution_count": 14,
   "id": "c36f484a-10cd-47f5-8ed1-f14a2a74d2c2",
   "metadata": {},
   "outputs": [],
   "source": [
    "df.sort_values(by=\"Closeness\", ascending=False, inplace=True)\n",
    "context=\"\"\n",
    "for i in range (0,5):\n",
    "    context+=df[\"Content\"][i]\n"
   ]
  },
  {
   "cell_type": "code",
   "execution_count": 15,
   "id": "47b69c0a-f99d-435b-87c0-9137316006f6",
   "metadata": {},
   "outputs": [
    {
     "name": "stdout",
     "output_type": "stream",
     "text": [
      "response:\n",
      "GenerateContentResponse(\n",
      "    done=True,\n",
      "    iterator=None,\n",
      "    result=protos.GenerateContentResponse({\n",
      "      \"candidates\": [\n",
      "        {\n",
      "          \"content\": {\n",
      "            \"parts\": [\n",
      "              {\n",
      "                \"text\": \"I'm sorry, but the provided text is a research paper abstract about Zomato and the use of machine learning algorithms to analyze restaurant data.  It doesn't contain information about how many respondents feel online food guides save money.  We don't have access to that specific data.\\n\"\n",
      "              }\n",
      "            ],\n",
      "            \"role\": \"model\"\n",
      "          },\n",
      "          \"finish_reason\": \"STOP\",\n",
      "          \"avg_logprobs\": -0.08117339611053467\n",
      "        }\n",
      "      ],\n",
      "      \"usage_metadata\": {\n",
      "        \"prompt_token_count\": 415,\n",
      "        \"candidates_token_count\": 60,\n",
      "        \"total_token_count\": 475\n",
      "      },\n",
      "      \"model_version\": \"gemini-1.5-flash\"\n",
      "    }),\n",
      ")\n"
     ]
    }
   ],
   "source": [
    "# Now let's generate the response\n",
    "answer = model.generate_content(f\"You are a customer support assistance from the organisation of Zomato, a food delivery service. Use first person like 'We' to answer queries. Don't answer beyond the given context. The context is :{context}. Customer Question: {question}\")\n",
    "# print(answer)"
   ]
  },
  {
   "cell_type": "code",
   "execution_count": 16,
   "id": "cbf174a3-f28c-435c-b40e-c97b8b8c1339",
   "metadata": {},
   "outputs": [
    {
     "name": "stdout",
     "output_type": "stream",
     "text": [
      "I'm sorry, but the provided text is a research paper abstract about Zomato and the use of machine learning algorithms to analyze restaurant data.  It doesn't contain information about how many respondents feel online food guides save money.  We don't have access to that specific data.\n",
      "\n"
     ]
    }
   ],
   "source": [
    "print(answer.candidates[0].content.parts[0].text)"
   ]
  },
  {
   "cell_type": "code",
   "execution_count": null,
   "id": "007019bf-ca83-44f8-8243-a809141765ac",
   "metadata": {},
   "outputs": [],
   "source": []
  },
  {
   "cell_type": "code",
   "execution_count": null,
   "id": "b7cc2d7d-64e7-4c84-8f1b-89cd3a9a85d6",
   "metadata": {},
   "outputs": [],
   "source": []
  }
 ],
 "metadata": {
  "kernelspec": {
   "display_name": "Python 3 (ipykernel)",
   "language": "python",
   "name": "python3"
  },
  "language_info": {
   "codemirror_mode": {
    "name": "ipython",
    "version": 3
   },
   "file_extension": ".py",
   "mimetype": "text/x-python",
   "name": "python",
   "nbconvert_exporter": "python",
   "pygments_lexer": "ipython3",
   "version": "3.12.4"
  }
 },
 "nbformat": 4,
 "nbformat_minor": 5
}
