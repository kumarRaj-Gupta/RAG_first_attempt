{
 "cells": [
  {
   "cell_type": "code",
   "execution_count": 1,
   "id": "ad96b199-43bb-4dc9-be49-c5e1a2b0a0bf",
   "metadata": {},
   "outputs": [],
   "source": [
    "from dotenv import load_dotenv\n",
    "import google.generativeai as genai\n",
    "import os"
   ]
  },
  {
   "cell_type": "code",
   "execution_count": 3,
   "id": "e7e9506b-5fe2-461d-b1b5-b7ef6e560eeb",
   "metadata": {},
   "outputs": [],
   "source": [
    "load_dotenv()\n",
    "api_key = os.getenv(\"GEMINI_API_KEY\")\n",
    "genai.configure(api_key=api_key)\n",
    "model = genai.GenerativeModel(\"gemini-1.5-flash\")\n",
    "# response = model.generate_content(\"Explain how AI works\")\n",
    "# print(response.text)\n"
   ]
  },
  {
   "cell_type": "code",
   "execution_count": 1,
   "id": "43f372d2-0eba-486c-949d-5994fbfd546d",
   "metadata": {},
   "outputs": [],
   "source": [
    "import PyPDF2\n",
    "import re"
   ]
  },
  {
   "cell_type": "code",
   "execution_count": 2,
   "id": "753194a2-b475-4f0d-90a8-9f042de53c49",
   "metadata": {},
   "outputs": [],
   "source": [
    "# Read PDF\n",
    "def read_pdf(file: str)-> str:\n",
    "    pdfFile = open(file, 'rb')\n",
    "    \n",
    "    pdfReader = PyPDF2.PdfReader(pdfFile)\n",
    "    \n",
    "    \n",
    "    \n",
    "    # Extract text from all pages\n",
    "    \n",
    "    text = \"\"\n",
    "    \n",
    "    for page in range(len(pdfReader.pages)):\n",
    "    \n",
    "        text += pdfReader.pages[page].extract_text()\n",
    "\n",
    "    return text\n",
    "\n",
    "content=read_pdf(\"zomato.pdf\")+\" \"+read_pdf(\"zomato2.pdf\")\n",
    "\n",
    "\n",
    "\n"
   ]
  },
  {
   "cell_type": "code",
   "execution_count": null,
   "id": "0c1f51cb-4670-428b-9ad6-fd6c2d3b9ee1",
   "metadata": {},
   "outputs": [],
   "source": [
    "print(content)\n"
   ]
  },
  {
   "cell_type": "code",
   "execution_count": 121,
   "id": "88ae44eb-4e23-4374-aeb5-b81d5dd63e71",
   "metadata": {},
   "outputs": [
    {
     "data": {
      "text/html": [
       "<div>\n",
       "<style scoped>\n",
       "    .dataframe tbody tr th:only-of-type {\n",
       "        vertical-align: middle;\n",
       "    }\n",
       "\n",
       "    .dataframe tbody tr th {\n",
       "        vertical-align: top;\n",
       "    }\n",
       "\n",
       "    .dataframe thead th {\n",
       "        text-align: right;\n",
       "    }\n",
       "</style>\n",
       "<table border=\"1\" class=\"dataframe\">\n",
       "  <thead>\n",
       "    <tr style=\"text-align: right;\">\n",
       "      <th></th>\n",
       "      <th>Content</th>\n",
       "    </tr>\n",
       "  </thead>\n",
       "  <tbody>\n",
       "    <tr>\n",
       "      <th>0</th>\n",
       "      <td>© 2021 JETIR February 2021, Volume 8, Issue 2 ...</td>\n",
       "    </tr>\n",
       "    <tr>\n",
       "      <th>1</th>\n",
       "      <td>Or we can first look at the ratings or the rev...</td>\n",
       "    </tr>\n",
       "    <tr>\n",
       "      <th>2</th>\n",
       "      <td>Zomato is one such app that provides users wit...</td>\n",
       "    </tr>\n",
       "    <tr>\n",
       "      <th>3</th>\n",
       "      <td>Ratings or  reviews are considered to be one o...</td>\n",
       "    </tr>\n",
       "    <tr>\n",
       "      <th>4</th>\n",
       "      <td>We will therefore use the real time data set h...</td>\n",
       "    </tr>\n",
       "    <tr>\n",
       "      <th>...</th>\n",
       "      <td>...</td>\n",
       "    </tr>\n",
       "    <tr>\n",
       "      <th>679</th>\n",
       "      <td>a) Helpful   b) Not Helpful     25</td>\n",
       "    </tr>\n",
       "    <tr>\n",
       "      <th>680</th>\n",
       "      <td>In general, what is the reason of using Zomato</td>\n",
       "    </tr>\n",
       "    <tr>\n",
       "      <th>681</th>\n",
       "      <td>a) More practical   b) Unable to go to restaur...</td>\n",
       "    </tr>\n",
       "    <tr>\n",
       "      <th>682</th>\n",
       "      <td>Responses for ordering food through offline</td>\n",
       "    </tr>\n",
       "    <tr>\n",
       "      <th>683</th>\n",
       "      <td>a) Yes  b) No</td>\n",
       "    </tr>\n",
       "  </tbody>\n",
       "</table>\n",
       "<p>684 rows × 1 columns</p>\n",
       "</div>"
      ],
      "text/plain": [
       "                                               Content\n",
       "0    © 2021 JETIR February 2021, Volume 8, Issue 2 ...\n",
       "1    Or we can first look at the ratings or the rev...\n",
       "2    Zomato is one such app that provides users wit...\n",
       "3    Ratings or  reviews are considered to be one o...\n",
       "4    We will therefore use the real time data set h...\n",
       "..                                                 ...\n",
       "679                 a) Helpful   b) Not Helpful     25\n",
       "680     In general, what is the reason of using Zomato\n",
       "681  a) More practical   b) Unable to go to restaur...\n",
       "682        Responses for ordering food through offline\n",
       "683                                     a) Yes  b) No \n",
       "\n",
       "[684 rows x 1 columns]"
      ]
     },
     "execution_count": 121,
     "metadata": {},
     "output_type": "execute_result"
    }
   ],
   "source": [
    "# Split content into sentences\n",
    "content=content.replace(\"\\n\",\" \")\n",
    "sentences = re.split(r\"[.!?]\\s* \", content)  \n",
    "\n",
    "# Create DataFrame\n",
    "sentences_df = pd.DataFrame({\"Content\": sentences})\n",
    "sentences_df"
   ]
  },
  {
   "cell_type": "raw",
   "id": "94e80ce8-39e8-409d-8d70-8bbf31c61f15",
   "metadata": {},
   "source": [
    "%%time\n",
    "def get_embedding(text):\n",
    "    embedded_content = genai.embed_content(\n",
    "            model=\"models/text-embedding-004\",\n",
    "            content={text})\n",
    "    return embedded_content['embedding']\n"
   ]
  },
  {
   "cell_type": "code",
   "execution_count": null,
   "id": "ab50f611-d2ea-4e08-b8f4-9468791a7f48",
   "metadata": {},
   "outputs": [],
   "source": [
    "%%time\n",
    "sentences_df['Embedding']=sentences_df['Content'].apply(get_embedding)\n",
    "sentences_df.to_csv(\"./fake_vector_db.csv\",index=False)"
   ]
  },
  {
   "cell_type": "code",
   "execution_count": 126,
   "id": "0b35c9d8-639d-4be9-ad53-edfbef9033bf",
   "metadata": {},
   "outputs": [
    {
     "name": "stdout",
     "output_type": "stream",
     "text": [
      "                                               Content\n",
      "0    © 2021 JETIR February 2021, Volume 8, Issue 2 ...\n",
      "1    Or we can first look at the ratings or the rev...\n",
      "2    Zomato is one such app that provides users wit...\n",
      "3    Ratings or  reviews are considered to be one o...\n",
      "4    We will therefore use the real time data set h...\n",
      "..                                                 ...\n",
      "679                 a) Helpful   b) Not Helpful     25\n",
      "680     In general, what is the reason of using Zomato\n",
      "681  a) More practical   b) Unable to go to restaur...\n",
      "682        Responses for ordering food through offline\n",
      "683                                     a) Yes  b) No \n",
      "\n",
      "[684 rows x 1 columns]\n"
     ]
    }
   ],
   "source": [
    "print(sentences_df)"
   ]
  },
  {
   "cell_type": "code",
   "execution_count": 109,
   "id": "98ea40a8-fbbd-4bda-9d75-02e1d182dd9d",
   "metadata": {},
   "outputs": [],
   "source": [
    "question=\"How many respondents feel that online food guide saves money?\"\n",
    "embedded_question= get_embedding(question)\n",
    "\n",
    "\n"
   ]
  },
  {
   "cell_type": "code",
   "execution_count": 115,
   "id": "dd5cb67f-1ede-44d3-a938-579eace0c50e",
   "metadata": {},
   "outputs": [
    {
     "data": {
      "text/plain": [
       "1"
      ]
     },
     "execution_count": 115,
     "metadata": {},
     "output_type": "execute_result"
    }
   ],
   "source": [
    "embedded_question"
   ]
  },
  {
   "cell_type": "code",
   "execution_count": 79,
   "id": "989dab29-0cb2-4e12-b05a-8b77c179ba5f",
   "metadata": {},
   "outputs": [],
   "source": [
    "import numpy as np"
   ]
  },
  {
   "cell_type": "markdown",
   "id": "ddfc0314-a4eb-4475-a76f-3aa767114878",
   "metadata": {},
   "source": [
    "def find_closeness(page_embedding):\n",
    "    np.dot(page_embedding,embedded_question)\n",
    "sentences_df['Closeness']=sentences_df['Embedding'].apply(find_closeness)"
   ]
  },
  {
   "cell_type": "code",
   "execution_count": 106,
   "id": "63e1716f-2882-41ac-bac6-f2dd2b9bd47d",
   "metadata": {},
   "outputs": [],
   "source": [
    "sentences_df.sort_values(\"Closeness\",ascending=False,inplace=True)"
   ]
  },
  {
   "cell_type": "code",
   "execution_count": null,
   "id": "d940c871-9a2e-4359-89ef-261be32b8b81",
   "metadata": {},
   "outputs": [],
   "source": [
    "sentences_df\n"
   ]
  }
 ],
 "metadata": {
  "kernelspec": {
   "display_name": "Python 3 (ipykernel)",
   "language": "python",
   "name": "python3"
  },
  "language_info": {
   "codemirror_mode": {
    "name": "ipython",
    "version": 3
   },
   "file_extension": ".py",
   "mimetype": "text/x-python",
   "name": "python",
   "nbconvert_exporter": "python",
   "pygments_lexer": "ipython3",
   "version": "3.12.4"
  }
 },
 "nbformat": 4,
 "nbformat_minor": 5
}
