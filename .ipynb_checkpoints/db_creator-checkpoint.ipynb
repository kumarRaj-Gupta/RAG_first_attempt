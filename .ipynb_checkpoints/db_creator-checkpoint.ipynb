{
 "cells": [
  {
   "cell_type": "code",
   "execution_count": 4,
   "id": "ad96b199-43bb-4dc9-be49-c5e1a2b0a0bf",
   "metadata": {},
   "outputs": [],
   "source": [
    "from dotenv import load_dotenv\n",
    "import google.generativeai as genai\n",
    "import os"
   ]
  },
  {
   "cell_type": "code",
   "execution_count": 6,
   "id": "8ab7b027-40e1-4630-afc1-5a534e12a74e",
   "metadata": {},
   "outputs": [],
   "source": [
    "load_dotenv()\n",
    "api_key = os.getenv(\"GEMINI_API_KEY\")\n",
    "genai.configure(api_key=api_key)\n",
    "model = genai.GenerativeModel(\"gemini-1.5-flash\")\n",
    "# response = model.generate_content(\"Explain how AI works\")\n",
    "# print(response.text)\n"
   ]
  },
  {
   "cell_type": "code",
   "execution_count": 70,
   "id": "43f372d2-0eba-486c-949d-5994fbfd546d",
   "metadata": {},
   "outputs": [],
   "source": [
    "import PyPDF2\n",
    "import re"
   ]
  },
  {
   "cell_type": "code",
   "execution_count": 64,
   "id": "753194a2-b475-4f0d-90a8-9f042de53c49",
   "metadata": {},
   "outputs": [],
   "source": [
    "# Read PDF\n",
    "def read_pdf(file: str)-> str:\n",
    "    pdfFile = open(file, 'rb')\n",
    "    \n",
    "    pdfReader = PyPDF2.PdfReader(pdfFile)\n",
    "    \n",
    "    \n",
    "    \n",
    "    # Extract text from all pages\n",
    "    \n",
    "    text = \"\"\n",
    "    \n",
    "    for page in range(len(pdfReader.pages)):\n",
    "    \n",
    "        text += pdfReader.pages[page].extract_text()\n",
    "\n",
    "    return text\n",
    "\n",
    "content=read_pdf(\"zomato.pdf\")+\" \"+read_pdf(\"zomato2.pdf\")\n",
    "\n",
    "\n",
    "\n"
   ]
  },
  {
   "cell_type": "code",
   "execution_count": null,
   "id": "88ae44eb-4e23-4374-aeb5-b81d5dd63e71",
   "metadata": {},
   "outputs": [],
   "source": [
    "# Split content into sentences\n",
    "content=content.replace(\"\\n\",\" \")\n",
    "sentences = re.split(r\"[.!?]\\s* \", content)  \n",
    "\n",
    "# Create DataFrame\n",
    "sentences_df = pd.DataFrame({\"Content\": sentences})\n",
    "sentences_df"
   ]
  },
  {
   "cell_type": "code",
   "execution_count": 76,
   "id": "73983663-e965-4b9e-aac1-ddbcaf4dfe51",
   "metadata": {},
   "outputs": [
    {
     "name": "stdout",
     "output_type": "stream",
     "text": [
      "CPU times: user 29 μs, sys: 0 ns, total: 29 μs\n",
      "Wall time: 45.8 μs\n"
     ]
    }
   ],
   "source": [
    "%%time\n",
    "def get_embedding(text):\n",
    "    embedded_content = genai.embed_content(\n",
    "            model=\"models/text-embedding-004\",\n",
    "            content={text})\n",
    "    return embedded_content['embedding']\n"
   ]
  },
  {
   "cell_type": "code",
   "execution_count": 78,
   "id": "ab50f611-d2ea-4e08-b8f4-9468791a7f48",
   "metadata": {},
   "outputs": [
    {
     "name": "stdout",
     "output_type": "stream",
     "text": [
      "CPU times: user 8.46 s, sys: 412 ms, total: 8.87 s\n",
      "Wall time: 6min 41s\n"
     ]
    }
   ],
   "source": [
    "%%time\n",
    "sentences_df['Embedding']=sentences_df['Content'].apply(get_embedding)\n",
    "sentences_df\n",
    "sentences_df.to_csv(\"./fake_vector_db.csv\",index=False)"
   ]
  },
  {
   "cell_type": "code",
   "execution_count": 83,
   "id": "98ea40a8-fbbd-4bda-9d75-02e1d182dd9d",
   "metadata": {},
   "outputs": [],
   "source": [
    "question=\"How many respondents feel that online food guide saves money?\"\n",
    "embedded_question= genai.embed_content(\n",
    "    model=\"models/text-embedding-004\",\n",
    "    content={question})['embedding']\n"
   ]
  },
  {
   "cell_type": "code",
   "execution_count": 79,
   "id": "989dab29-0cb2-4e12-b05a-8b77c179ba5f",
   "metadata": {},
   "outputs": [],
   "source": [
    "import numpy as np"
   ]
  },
  {
   "cell_type": "code",
   "execution_count": 84,
   "id": "b4ae4a71-4229-4415-bad5-c873a4a75db7",
   "metadata": {},
   "outputs": [
    {
     "ename": "ValueError",
     "evalue": "shapes (684,) and (1,768) not aligned: 684 (dim 0) != 1 (dim 0)",
     "output_type": "error",
     "traceback": [
      "\u001b[0;31m---------------------------------------------------------------------------\u001b[0m",
      "\u001b[0;31mValueError\u001b[0m                                Traceback (most recent call last)",
      "Cell \u001b[0;32mIn[84], line 1\u001b[0m\n\u001b[0;32m----> 1\u001b[0m sentences_df[\u001b[38;5;124m'\u001b[39m\u001b[38;5;124mCloseness\u001b[39m\u001b[38;5;124m'\u001b[39m]\u001b[38;5;241m=\u001b[39m\u001b[43mnp\u001b[49m\u001b[38;5;241;43m.\u001b[39;49m\u001b[43mdot\u001b[49m\u001b[43m(\u001b[49m\u001b[43msentences_df\u001b[49m\u001b[43m[\u001b[49m\u001b[38;5;124;43m'\u001b[39;49m\u001b[38;5;124;43mEmbedding\u001b[39;49m\u001b[38;5;124;43m'\u001b[39;49m\u001b[43m]\u001b[49m\u001b[43m,\u001b[49m\u001b[43membedded_question\u001b[49m\u001b[43m)\u001b[49m\n",
      "\u001b[0;31mValueError\u001b[0m: shapes (684,) and (1,768) not aligned: 684 (dim 0) != 1 (dim 0)"
     ]
    }
   ],
   "source": [
    "def find_closeness(eq):\n",
    "    np.dot(sentences_df['Embedding'],eq)\n",
    "sentences_df['Closeness']=sentences_df['Embedding'].apply(find_closeness)"
   ]
  }
 ],
 "metadata": {
  "kernelspec": {
   "display_name": "Python 3 (ipykernel)",
   "language": "python",
   "name": "python3"
  },
  "language_info": {
   "codemirror_mode": {
    "name": "ipython",
    "version": 3
   },
   "file_extension": ".py",
   "mimetype": "text/x-python",
   "name": "python",
   "nbconvert_exporter": "python",
   "pygments_lexer": "ipython3",
   "version": "3.12.4"
  }
 },
 "nbformat": 4,
 "nbformat_minor": 5
}
