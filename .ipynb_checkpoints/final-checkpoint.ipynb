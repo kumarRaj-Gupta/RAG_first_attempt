{
 "cells": [
  {
   "cell_type": "code",
   "execution_count": 5,
   "id": "5b64de41-89b5-4d4e-ae0e-3caecbca6153",
   "metadata": {},
   "outputs": [],
   "source": [
    "import pandas as pd \n",
    "import numpy as np\n",
    "from dotenv import load_dotenv\n",
    "import google.generativeai as genai\n",
    "import os"
   ]
  },
  {
   "cell_type": "code",
   "execution_count": 6,
   "id": "2b91fc01-aa8d-4872-a744-c43b007aee53",
   "metadata": {},
   "outputs": [],
   "source": [
    "load_dotenv()\n",
    "api_key = os.getenv(\"GEMINI_API_KEY\")\n",
    "genai.configure(api_key=api_key)\n",
    "model = genai.GenerativeModel(\"gemini-1.5-flash\")\n",
    "# response = model.generate_content(\"Explain how AI works\")\n",
    "# print(response.text)"
   ]
  },
  {
   "cell_type": "code",
   "execution_count": 7,
   "id": "f27c6d4f-1100-417a-b017-42afbe5fa101",
   "metadata": {},
   "outputs": [],
   "source": [
    "df=pd.DataFrame(pd.read_csv(\"fake_vector_db.csv\"))\n",
    "#Fixing the Embedding Column\n",
    "import ast\n",
    "df[\"Embedding\"]=df[\"Embedding\"].apply(lambda x: ast.literal_eval(x))\n",
    "df[\"UseMe\"]=df[\"Embedding\"].apply(lambda x:x[0])"
   ]
  },
  {
   "cell_type": "code",
   "execution_count": 42,
   "id": "89eb638e-91d6-46af-8789-deba34b7b726",
   "metadata": {},
   "outputs": [],
   "source": [
    "def get_embedding(text):\n",
    "    embedded_content = genai.embed_content(\n",
    "            model=\"models/text-embedding-004\",\n",
    "            content={text})\n",
    "    return embedded_content['embedding']\n",
    "\n",
    "def generate_response(question):\n",
    "    embedded_question=get_embedding(question)[0]\n",
    "    df[\"Closeness\"]=df[\"UseMe\"].apply(lambda x: np.dot(x,embedded_question))\n",
    "    sorted_df=df.sort_values(by=\"Closeness\", ascending=False,  ignore_index=True)\n",
    "    context=\"\"\n",
    "    # print(sorted_df)\n",
    "    for i in range (0,5):\n",
    "        context+=sorted_df[\"Content\"][i]\n",
    "    # Now let's generate the response\n",
    "    answer = model.generate_content(f\"You are a customer support assistance from the organisation of Zomato, a food delivery service. Use first person like 'We' to answer queries. Don't answer beyond the given context. The context is :{context}. Customer Question: {question}\")\n",
    "    # print(answer)\n",
    "    return answer.candidates[0].content.parts[0].text\n",
    "    # print(df.head())\n",
    "    # print(context)"
   ]
  },
  {
   "cell_type": "code",
   "execution_count": null,
   "id": "3625d164-a03d-4400-b374-a47ff0c4827f",
   "metadata": {},
   "outputs": [],
   "source": []
  },
  {
   "cell_type": "code",
   "execution_count": 43,
   "id": "2650f14c-d849-4632-ae3d-0dda168f82d7",
   "metadata": {},
   "outputs": [
    {
     "name": "stdout",
     "output_type": "stream",
     "text": [
      "We found that 93% of respondents found it helpful to place an order to eat through the Zomato application.\n",
      "\n"
     ]
    }
   ],
   "source": [
    "print(generate_response(\"what percentage of the respondent find helpful to place order to eat through Zomato Application\"))"
   ]
  },
  {
   "cell_type": "code",
   "execution_count": null,
   "id": "61d4bd67-d43a-4c18-b75b-9e0ac2f1e285",
   "metadata": {},
   "outputs": [],
   "source": [
    "print(generate_response(\"who is Sanjay Anandharam and what does he/she has to say ?\")"
   ]
  },
  {
   "cell_type": "code",
   "execution_count": null,
   "id": "1c161700-dfae-41eb-838e-aabeb9bc4e8b",
   "metadata": {},
   "outputs": [],
   "source": [
    "print(generate_response(\"What is the full form of IBEF ?\"))"
   ]
  },
  {
   "cell_type": "code",
   "execution_count": null,
   "id": "b896b751-65b8-4c7b-a711-0ecd94d43222",
   "metadata": {},
   "outputs": [],
   "source": [
    "print(generate_response(\"When did the firm fire almost 10% of it's workforce and how many people were fired?\"))"
   ]
  },
  {
   "cell_type": "code",
   "execution_count": null,
   "id": "6627ab57-27a5-4faa-aff9-a1af608be559",
   "metadata": {},
   "outputs": [],
   "source": [
    "print(generate_response(\"Tell me something about the dataset you are using, namely the Zomato Banglaore data set\"))"
   ]
  },
  {
   "cell_type": "code",
   "execution_count": null,
   "id": "783aaceb-2a71-4232-b3b7-25d289abcc55",
   "metadata": {},
   "outputs": [],
   "source": [
    "print(generate_response(\"Which group of people are found to be mainly vegetarian ?\"))"
   ]
  },
  {
   "cell_type": "code",
   "execution_count": null,
   "id": "059237a2-d49f-4df0-9645-40ec2401a004",
   "metadata": {},
   "outputs": [],
   "source": [
    "print(generate_response(\"When was Zomato Infrastructure service announced to launch ?\"))"
   ]
  }
 ],
 "metadata": {
  "kernelspec": {
   "display_name": "Python 3 (ipykernel)",
   "language": "python",
   "name": "python3"
  },
  "language_info": {
   "codemirror_mode": {
    "name": "ipython",
    "version": 3
   },
   "file_extension": ".py",
   "mimetype": "text/x-python",
   "name": "python",
   "nbconvert_exporter": "python",
   "pygments_lexer": "ipython3",
   "version": "3.12.4"
  }
 },
 "nbformat": 4,
 "nbformat_minor": 5
}
