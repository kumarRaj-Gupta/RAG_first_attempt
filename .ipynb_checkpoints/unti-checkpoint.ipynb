{
 "cells": [
  {
   "cell_type": "code",
   "execution_count": 4,
   "id": "604dd3db-5892-4bb5-86ac-2d444e4a045a",
   "metadata": {},
   "outputs": [],
   "source": [
    "import pandas as pd \n",
    "import numpy as np\n",
    "from dotenv import load_dotenv\n",
    "import google.generativeai as genai\n",
    "import os"
   ]
  },
  {
   "cell_type": "code",
   "execution_count": 5,
   "id": "a6bb54ba-395e-4dfa-b972-38ba4c7b5df4",
   "metadata": {},
   "outputs": [],
   "source": [
    "load_dotenv()\n",
    "api_key = os.getenv(\"GEMINI_API_KEY\")\n",
    "genai.configure(api_key=api_key)\n",
    "model = genai.GenerativeModel(\"gemini-1.5-flash\")\n",
    "# response = model.generate_content(\"Explain how AI works\")\n",
    "# print(response.text)"
   ]
  },
  {
   "cell_type": "code",
   "execution_count": 21,
   "id": "2c82ec9a-1605-4f0e-843e-967fba99e466",
   "metadata": {},
   "outputs": [],
   "source": [
    "df=pd.DataFrame(pd.read_csv(\"fake_vector_db.csv\"))\n"
   ]
  },
  {
   "cell_type": "code",
   "execution_count": 7,
   "id": "cad56094-3d2f-47c3-a619-2648d0e70038",
   "metadata": {},
   "outputs": [],
   "source": [
    "# df[\"Embedding\"]=df[\"Embedding\"].apply(lambda x: np.array(x))"
   ]
  },
  {
   "cell_type": "code",
   "execution_count": 22,
   "id": "644d32dc-9210-4e17-96b5-ba6b2eb433ca",
   "metadata": {},
   "outputs": [],
   "source": [
    "def get_embedding(text):\n",
    "    embedded_content = genai.embed_content(\n",
    "            model=\"models/text-embedding-004\",\n",
    "            content={text})\n",
    "    return embedded_content['embedding']\n"
   ]
  },
  {
   "cell_type": "code",
   "execution_count": 23,
   "id": "ce1383b8-781e-419c-8eef-6d94ccbd8425",
   "metadata": {},
   "outputs": [],
   "source": [
    "question=\"How many respondents feel that online food guide saves money?\"\n",
    "embedded_question= get_embedding(question)"
   ]
  },
  {
   "cell_type": "code",
   "execution_count": 24,
   "id": "053dced5-d6d2-4072-8904-2cc1c6e8d6b3",
   "metadata": {},
   "outputs": [],
   "source": [
    "# fix_this=df[\"Embedding\"][0]\n",
    "# try_me = ast.literal_eval(fix_this)\n",
    "import ast\n"
   ]
  },
  {
   "cell_type": "code",
   "execution_count": 25,
   "id": "8f9e745a-b11c-4d22-a6dc-f413777801b5",
   "metadata": {},
   "outputs": [],
   "source": [
    "# for i in range(len(df[\"Embedding\"])):\n",
    "#     df[\"Embedding\"][i]=ast.literal_eval(df[\"Embedding\"][i])\n",
    "df[\"Embedding\"]=df[\"Embedding\"].apply(lambda x: ast.literal_eval(x))"
   ]
  },
  {
   "cell_type": "code",
   "execution_count": 27,
   "id": "97c570ba-b6d3-4dca-ab02-25b31e80c3f2",
   "metadata": {},
   "outputs": [],
   "source": [
    "df[\"UseMe\"]=df[\"Embedding\"].apply(lambda x:x[0])\n"
   ]
  },
  {
   "cell_type": "code",
   "execution_count": 32,
   "id": "d41f6a65-52b6-426e-bf64-2425b7210a93",
   "metadata": {},
   "outputs": [],
   "source": [
    "df[\"Closeness\"]=df[\"UseMe\"].apply(lambda x: np.dot(x,embedded_question[0]))"
   ]
  },
  {
   "cell_type": "code",
   "execution_count": 33,
   "id": "b870e15f-c706-492b-bee0-1a2e77f789f6",
   "metadata": {},
   "outputs": [
    {
     "data": {
      "text/plain": [
       "0    0.461170\n",
       "1    0.549081\n",
       "2    0.459530\n",
       "3    0.489319\n",
       "4    0.433289\n",
       "Name: Closeness, dtype: float64"
      ]
     },
     "execution_count": 33,
     "metadata": {},
     "output_type": "execute_result"
    }
   ],
   "source": [
    "df[\"Closeness\"].head()\n"
   ]
  },
  {
   "cell_type": "code",
   "execution_count": null,
   "id": "c36f484a-10cd-47f5-8ed1-f14a2a74d2c2",
   "metadata": {},
   "outputs": [],
   "source": [
    "df.sort_values(by=\"Closeness\", ascending=False, inplace=True)\n"
   ]
  },
  {
   "cell_type": "code",
   "execution_count": null,
   "id": "47b69c0a-f99d-435b-87c0-9137316006f6",
   "metadata": {},
   "outputs": [],
   "source": [
    "# Now let's generate the response"
   ]
  },
  {
   "cell_type": "code",
   "execution_count": null,
   "id": "302747bb-22dc-464a-9637-6c2fb2159b01",
   "metadata": {},
   "outputs": [],
   "source": []
  }
 ],
 "metadata": {
  "kernelspec": {
   "display_name": "Python 3 (ipykernel)",
   "language": "python",
   "name": "python3"
  },
  "language_info": {
   "codemirror_mode": {
    "name": "ipython",
    "version": 3
   },
   "file_extension": ".py",
   "mimetype": "text/x-python",
   "name": "python",
   "nbconvert_exporter": "python",
   "pygments_lexer": "ipython3",
   "version": "3.12.4"
  }
 },
 "nbformat": 4,
 "nbformat_minor": 5
}
